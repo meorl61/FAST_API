{
 "cells": [
  {
   "cell_type": "code",
   "execution_count": 24,
   "metadata": {},
   "outputs": [
    {
     "name": "stdout",
     "output_type": "stream",
     "text": [
      "[(152, '2023-06-29 14:48:16', 12, 23.54), (151, '2023-06-29 14:48:10', 12, 23.54), (150, '2023-06-29 14:48:05', 14, 23.54), (149, '2023-06-29 14:47:59', 14, 23.54), (148, '2023-06-29 14:47:54', 14, 23.54)]\n"
     ]
    }
   ],
   "source": [
    "import sqlite3\n",
    "from sqlite3 import Error\n",
    "from sqlite3 import Connection\n",
    "def create_connection(db_file:str) -> Connection | None:\n",
    "    conn = None\n",
    "    try:\n",
    "        conn = sqlite3.connect(db_file)\n",
    "    except Error as e:\n",
    "        print(e)\n",
    "\n",
    "    return conn\n",
    "\n",
    "def create_table(conn:Connection):\n",
    "    sql_projects = \"\"\"\n",
    "    CREATE TABLE IF NOT EXISTS iot1(\n",
    "\t\tid INTEGER PRIMARY KEY AUTOINCREMENT,\n",
    "\t\tdate TEXT NOT NULL,\n",
    "\t\tlight INTEGER NOT NULL,\n",
    "\t\ttemperature REAL NOT NULL\n",
    "    );\n",
    "    \"\"\"\n",
    "    try:\n",
    "        cursor = conn.cursor()\n",
    "        cursor.execute(sql_projects)\n",
    "    except Error as e:\n",
    "        print(e)\n",
    "\n",
    "def select_alltasks(conn:Connection,count:int):\n",
    "    #sql=\"Select * from ios1\"\n",
    "    sql= f\"\"\"\n",
    "        SELECT * \n",
    "        FROM iot1 \n",
    "        ORDER by date DESC \n",
    "        LIMIT {count}\n",
    "    \"\"\"\n",
    "    cursor = conn.cursor()\n",
    "    cursor.execute(sql)\n",
    "    rows=cursor.fetchall()\n",
    "    return rows\n",
    "\n",
    "conn = create_connection('data.db')\n",
    "if conn is not None:\n",
    "    create_table(conn)\n",
    "    rows = select_alltasks(conn,5)\n",
    "    print(rows)\n",
    "    conn.close()        "
   ]
  },
  {
   "cell_type": "code",
   "execution_count": 25,
   "metadata": {},
   "outputs": [
    {
     "ename": "IndentationError",
     "evalue": "expected an indented block after 'with' statement on line 2 (2118197572.py, line 13)",
     "output_type": "error",
     "traceback": [
      "\u001b[0;36m  Cell \u001b[0;32mIn[25], line 13\u001b[0;36m\u001b[0m\n\u001b[0;31m    conn = create_connection('data.db')\u001b[0m\n\u001b[0m    ^\u001b[0m\n\u001b[0;31mIndentationError\u001b[0m\u001b[0;31m:\u001b[0m expected an indented block after 'with' statement on line 2\n"
     ]
    }
   ],
   "source": [
    "\n",
    "import csv\n",
    "from \n",
    "with open('output.csv', 'w', newline='') as csvfile:\n",
    "  # 建立 CSV 檔寫入器\n",
    "  #writer = csv.writer(csvfile)\n",
    "\n",
    "  # 寫入一列資料\n",
    "  #writer.writerow(['姓名', '身高', '體重'])\n",
    "\n",
    "  # 寫入另外幾列資料\n",
    "  #writer.writerow(['令狐沖', 175, 60])\n",
    "  #writer.writerow(['岳靈珊', 165, 57])\n",
    "\n",
    "conn = create_connection('data.db')\n",
    "if conn is not None:\n",
    "    create_table(conn)\n",
    "    rows = select_alltasks(conn,5)\n",
    "    for row in rows:\n",
    "      writer.writerow([row])"
   ]
  }
 ],
 "metadata": {
  "kernelspec": {
   "display_name": "Python 3",
   "language": "python",
   "name": "python3"
  },
  "language_info": {
   "codemirror_mode": {
    "name": "ipython",
    "version": 3
   },
   "file_extension": ".py",
   "mimetype": "text/x-python",
   "name": "python",
   "nbconvert_exporter": "python",
   "pygments_lexer": "ipython3",
   "version": "3.10.12"
  },
  "orig_nbformat": 4
 },
 "nbformat": 4,
 "nbformat_minor": 2
}
