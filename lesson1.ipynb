{
 "cells": [
  {
   "cell_type": "code",
   "execution_count": 1,
   "metadata": {},
   "outputs": [
    {
     "name": "stdout",
     "output_type": "stream",
     "text": [
      "[(67, '2023-06-29 09:53:44', 15, 22.25), (66, '2023-06-29 09:53:39', 19, 22.89), (65, '2023-06-29 09:53:34', 15, 22.89), (64, '2023-06-29 09:53:28', 17, 23.54), (63, '2023-06-29 09:53:23', 15, 22.25)]\n"
     ]
    }
   ],
   "source": [
    "import sqlite3\n",
    "from sqlite3 import Error\n",
    "from sqlite3 import Connection\n",
    "def create_connection(db_file:str) -> Connection | None:\n",
    "    conn = None\n",
    "    try:\n",
    "        conn = sqlite3.connect(db_file)\n",
    "    except Error as e:\n",
    "        print(e)\n",
    "\n",
    "    return conn\n",
    "\n",
    "def create_table(conn:Connection):\n",
    "    sql_projects = \"\"\"\n",
    "    CREATE TABLE IF NOT EXISTS iot1(\n",
    "\t\tid INTEGER PRIMARY KEY AUTOINCREMENT,\n",
    "\t\tdate TEXT NOT NULL,\n",
    "\t\tlight INTEGER NOT NULL,\n",
    "\t\ttemperature REAL NOT NULL\n",
    "    );\n",
    "    \"\"\"\n",
    "    try:\n",
    "        cursor = conn.cursor()\n",
    "        cursor.execute(sql_projects)\n",
    "    except Error as e:\n",
    "        print(e)\n",
    "\n",
    "def select_alltasks(conn:Connection,count:int):\n",
    "    #sql=\"Select * from ios1\"\n",
    "    sql= f\"\"\"\n",
    "        SELECT * \n",
    "        FROM iot1 \n",
    "        ORDER by date DESC \n",
    "        LIMIT {count}\n",
    "    \"\"\"\n",
    "    cursor = conn.cursor()\n",
    "    cursor.execute(sql)\n",
    "    rows=cursor.fetchall()\n",
    "    return rows\n",
    "\n",
    "conn = create_connection('data.db')\n",
    "if conn is not None:\n",
    "    create_table(conn)\n",
    "    rows = select_alltasks(conn,5)\n",
    "    print(rows)\n",
    "    conn.close()        "
   ]
  }
 ],
 "metadata": {
  "kernelspec": {
   "display_name": "Python 3",
   "language": "python",
   "name": "python3"
  },
  "language_info": {
   "codemirror_mode": {
    "name": "ipython",
    "version": 3
   },
   "file_extension": ".py",
   "mimetype": "text/x-python",
   "name": "python",
   "nbconvert_exporter": "python",
   "pygments_lexer": "ipython3",
   "version": "3.10.12"
  },
  "orig_nbformat": 4
 },
 "nbformat": 4,
 "nbformat_minor": 2
}
