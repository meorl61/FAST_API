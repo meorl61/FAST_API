{
 "cells": [
  {
   "cell_type": "code",
   "execution_count": null,
   "metadata": {},
   "outputs": [],
   "source": [
    "import sqlite3\n",
    "from sqlite3 import Error\n",
    "from sqlite3 import Connection\n",
    "def create_connection(db_file:str) -> Connection | None:\n",
    "    conn = None\n",
    "    try:\n",
    "        conn = sqlite3.connect(db_file)\n",
    "    except Error as e:\n",
    "        print(e)\n",
    "\n",
    "    return conn\n",
    "\n",
    "def create_table(conn:Connection):\n",
    "    sql_projects = \"\"\"\n",
    "    CREATE TABLE IF NOT EXISTS iot1(\n",
    "\t\tid INTEGER PRIMARY KEY AUTOINCREMENT,\n",
    "\t\tdate TEXT NOT NULL,\n",
    "\t\tlight INTEGER NOT NULL,\n",
    "\t\ttemperature REAL NOT NULL\n",
    "    );\n",
    "    \"\"\"\n",
    "    try:\n",
    "        cursor = conn.cursor()\n",
    "        cursor.execute(sql_projects)\n",
    "    except Error as e:\n",
    "        print(e)\n",
    "\n",
    "def select_alltasks(conn:Connection,count:int):\n",
    "    #sql=\"Select * from ios1\"\n",
    "    sql= f\"\"\"\n",
    "        SELECT * \n",
    "        FROM iot1 \n",
    "        ORDER by date DESC \n",
    "        LIMIT {count}\n",
    "    \"\"\"\n",
    "    cursor = conn.cursor()\n",
    "    cursor.execute(sql)\n",
    "    rows=cursor.fetchall()\n",
    "    return rows\n",
    "\n",
    "conn = create_connection('data.db')\n",
    "if conn is not None:\n",
    "    create_table(conn)\n",
    "    rows = select_alltasks(conn,5)\n",
    "    print(rows)\n",
    "    conn.close()        "
   ]
  }
 ],
 "metadata": {
  "language_info": {
   "name": "python"
  },
  "orig_nbformat": 4
 },
 "nbformat": 4,
 "nbformat_minor": 2
}
